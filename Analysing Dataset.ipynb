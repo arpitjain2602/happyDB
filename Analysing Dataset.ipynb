{
 "cells": [
  {
   "cell_type": "code",
   "execution_count": 25,
   "metadata": {},
   "outputs": [],
   "source": [
    "import pandas as pd\n",
    "import seaborn as sns\n",
    "\n",
    "import warnings\n",
    "warnings.filterwarnings('ignore')"
   ]
  },
  {
   "cell_type": "code",
   "execution_count": 11,
   "metadata": {},
   "outputs": [],
   "source": [
    "train_data = pd.read_csv('dataset/hm_train.csv')\n",
    "test_data = pd.read_csv('dataset/hm_test.csv')\n",
    "sample_submission = pd.read_csv('dataset/sample_submission.csv')\n",
    "target_col = 'predicted_category'"
   ]
  },
  {
   "cell_type": "code",
   "execution_count": 8,
   "metadata": {},
   "outputs": [
    {
     "name": "stdout",
     "output_type": "stream",
     "text": [
      "(60321, 5)\n",
      "(40213, 4)\n"
     ]
    },
    {
     "data": {
      "text/plain": [
       "affection           20880\n",
       "achievement         20274\n",
       "bonding              6561\n",
       "enjoy_the_moment     6508\n",
       "leisure              4242\n",
       "nature               1127\n",
       "exercise              729\n",
       "Name: predicted_category, dtype: int64"
      ]
     },
     "execution_count": 8,
     "metadata": {},
     "output_type": "execute_result"
    }
   ],
   "source": [
    "print(train_data.shape)\n",
    "print(test_data.shape)\n",
    "train_data['predicted_category'].value_counts()"
   ]
  },
  {
   "cell_type": "code",
   "execution_count": 31,
   "metadata": {},
   "outputs": [
    {
     "data": {
      "text/html": [
       "<div>\n",
       "<style scoped>\n",
       "    .dataframe tbody tr th:only-of-type {\n",
       "        vertical-align: middle;\n",
       "    }\n",
       "\n",
       "    .dataframe tbody tr th {\n",
       "        vertical-align: top;\n",
       "    }\n",
       "\n",
       "    .dataframe thead th {\n",
       "        text-align: right;\n",
       "    }\n",
       "</style>\n",
       "<table border=\"1\" class=\"dataframe\">\n",
       "  <thead>\n",
       "    <tr style=\"text-align: right;\">\n",
       "      <th></th>\n",
       "      <th>hmid</th>\n",
       "      <th>reflection_period</th>\n",
       "      <th>cleaned_hm</th>\n",
       "      <th>num_sentence</th>\n",
       "    </tr>\n",
       "  </thead>\n",
       "  <tbody>\n",
       "    <tr>\n",
       "      <th>0</th>\n",
       "      <td>88305</td>\n",
       "      <td>3m</td>\n",
       "      <td>I spent the weekend in Chicago with my friends.</td>\n",
       "      <td>1</td>\n",
       "    </tr>\n",
       "    <tr>\n",
       "      <th>1</th>\n",
       "      <td>88306</td>\n",
       "      <td>3m</td>\n",
       "      <td>We moved back into our house after a remodel. ...</td>\n",
       "      <td>2</td>\n",
       "    </tr>\n",
       "    <tr>\n",
       "      <th>2</th>\n",
       "      <td>88307</td>\n",
       "      <td>3m</td>\n",
       "      <td>My fiance proposed to me in front of my family...</td>\n",
       "      <td>1</td>\n",
       "    </tr>\n",
       "    <tr>\n",
       "      <th>3</th>\n",
       "      <td>88308</td>\n",
       "      <td>3m</td>\n",
       "      <td>I ate lobster at a fancy restaurant with some ...</td>\n",
       "      <td>1</td>\n",
       "    </tr>\n",
       "    <tr>\n",
       "      <th>4</th>\n",
       "      <td>88309</td>\n",
       "      <td>3m</td>\n",
       "      <td>I went out to a nice restaurant on a date with...</td>\n",
       "      <td>5</td>\n",
       "    </tr>\n",
       "  </tbody>\n",
       "</table>\n",
       "</div>"
      ],
      "text/plain": [
       "    hmid reflection_period                                         cleaned_hm  \\\n",
       "0  88305                3m    I spent the weekend in Chicago with my friends.   \n",
       "1  88306                3m  We moved back into our house after a remodel. ...   \n",
       "2  88307                3m  My fiance proposed to me in front of my family...   \n",
       "3  88308                3m  I ate lobster at a fancy restaurant with some ...   \n",
       "4  88309                3m  I went out to a nice restaurant on a date with...   \n",
       "\n",
       "   num_sentence  \n",
       "0             1  \n",
       "1             2  \n",
       "2             1  \n",
       "3             1  \n",
       "4             5  "
      ]
     },
     "execution_count": 31,
     "metadata": {},
     "output_type": "execute_result"
    }
   ],
   "source": [
    "test_data.head()"
   ]
  },
  {
   "cell_type": "code",
   "execution_count": 9,
   "metadata": {},
   "outputs": [
    {
     "data": {
      "text/html": [
       "<div>\n",
       "<style scoped>\n",
       "    .dataframe tbody tr th:only-of-type {\n",
       "        vertical-align: middle;\n",
       "    }\n",
       "\n",
       "    .dataframe tbody tr th {\n",
       "        vertical-align: top;\n",
       "    }\n",
       "\n",
       "    .dataframe thead th {\n",
       "        text-align: right;\n",
       "    }\n",
       "</style>\n",
       "<table border=\"1\" class=\"dataframe\">\n",
       "  <thead>\n",
       "    <tr style=\"text-align: right;\">\n",
       "      <th></th>\n",
       "      <th>hmid</th>\n",
       "      <th>reflection_period</th>\n",
       "      <th>cleaned_hm</th>\n",
       "      <th>num_sentence</th>\n",
       "      <th>predicted_category</th>\n",
       "    </tr>\n",
       "  </thead>\n",
       "  <tbody>\n",
       "    <tr>\n",
       "      <th>0</th>\n",
       "      <td>27673</td>\n",
       "      <td>24h</td>\n",
       "      <td>I went on a successful date with someone I fel...</td>\n",
       "      <td>1</td>\n",
       "      <td>affection</td>\n",
       "    </tr>\n",
       "    <tr>\n",
       "      <th>1</th>\n",
       "      <td>27674</td>\n",
       "      <td>24h</td>\n",
       "      <td>I was happy when my son got 90% marks in his e...</td>\n",
       "      <td>1</td>\n",
       "      <td>affection</td>\n",
       "    </tr>\n",
       "    <tr>\n",
       "      <th>2</th>\n",
       "      <td>27675</td>\n",
       "      <td>24h</td>\n",
       "      <td>I went to the gym this morning and did yoga.</td>\n",
       "      <td>1</td>\n",
       "      <td>exercise</td>\n",
       "    </tr>\n",
       "    <tr>\n",
       "      <th>3</th>\n",
       "      <td>27676</td>\n",
       "      <td>24h</td>\n",
       "      <td>We had a serious talk with some friends of our...</td>\n",
       "      <td>2</td>\n",
       "      <td>bonding</td>\n",
       "    </tr>\n",
       "    <tr>\n",
       "      <th>4</th>\n",
       "      <td>27677</td>\n",
       "      <td>24h</td>\n",
       "      <td>I went with grandchildren to butterfly display...</td>\n",
       "      <td>1</td>\n",
       "      <td>affection</td>\n",
       "    </tr>\n",
       "  </tbody>\n",
       "</table>\n",
       "</div>"
      ],
      "text/plain": [
       "    hmid reflection_period                                         cleaned_hm  \\\n",
       "0  27673               24h  I went on a successful date with someone I fel...   \n",
       "1  27674               24h  I was happy when my son got 90% marks in his e...   \n",
       "2  27675               24h       I went to the gym this morning and did yoga.   \n",
       "3  27676               24h  We had a serious talk with some friends of our...   \n",
       "4  27677               24h  I went with grandchildren to butterfly display...   \n",
       "\n",
       "   num_sentence predicted_category  \n",
       "0             1          affection  \n",
       "1             1          affection  \n",
       "2             1           exercise  \n",
       "3             2            bonding  \n",
       "4             1          affection  "
      ]
     },
     "execution_count": 9,
     "metadata": {},
     "output_type": "execute_result"
    }
   ],
   "source": [
    "train_data.head()"
   ]
  },
  {
   "cell_type": "code",
   "execution_count": 17,
   "metadata": {},
   "outputs": [
    {
     "data": {
      "text/plain": [
       "24h    30455\n",
       "3m     29866\n",
       "Name: reflection_period, dtype: int64"
      ]
     },
     "execution_count": 17,
     "metadata": {},
     "output_type": "execute_result"
    }
   ],
   "source": [
    "train_data['reflection_period'].value_counts()"
   ]
  },
  {
   "cell_type": "code",
   "execution_count": 30,
   "metadata": {},
   "outputs": [
    {
     "name": "stdout",
     "output_type": "stream",
     "text": [
      "affection           10157\n",
      "achievement          9272\n",
      "enjoy_the_moment     3982\n",
      "bonding              3276\n",
      "leisure              2598\n",
      "nature                688\n",
      "exercise              482\n",
      "Name: predicted_category, dtype: int64\n",
      "----\n",
      "achievement         11002\n",
      "affection           10723\n",
      "bonding              3285\n",
      "enjoy_the_moment     2526\n",
      "leisure              1644\n",
      "nature                439\n",
      "exercise              247\n",
      "Name: predicted_category, dtype: int64\n"
     ]
    }
   ],
   "source": [
    "print(train_data[train_data['reflection_period'] == '24h'][target_col].value_counts())\n",
    "print('----')\n",
    "print(train_data[train_data['reflection_period'] == '3m'][target_col].value_counts())"
   ]
  },
  {
   "cell_type": "code",
   "execution_count": 36,
   "metadata": {},
   "outputs": [
    {
     "data": {
      "text/html": [
       "<div>\n",
       "<style scoped>\n",
       "    .dataframe tbody tr th:only-of-type {\n",
       "        vertical-align: middle;\n",
       "    }\n",
       "\n",
       "    .dataframe tbody tr th {\n",
       "        vertical-align: top;\n",
       "    }\n",
       "\n",
       "    .dataframe thead th {\n",
       "        text-align: right;\n",
       "    }\n",
       "</style>\n",
       "<table border=\"1\" class=\"dataframe\">\n",
       "  <thead>\n",
       "    <tr style=\"text-align: right;\">\n",
       "      <th></th>\n",
       "      <th>hmid</th>\n",
       "      <th>reflection_period</th>\n",
       "      <th>cleaned_hm</th>\n",
       "      <th>num_sentence</th>\n",
       "      <th>predicted_category</th>\n",
       "    </tr>\n",
       "  </thead>\n",
       "  <tbody>\n",
       "    <tr>\n",
       "      <th>35</th>\n",
       "      <td>27708</td>\n",
       "      <td>24h</td>\n",
       "      <td>We were competing against another team in a on...</td>\n",
       "      <td>9</td>\n",
       "      <td>bonding</td>\n",
       "    </tr>\n",
       "    <tr>\n",
       "      <th>127</th>\n",
       "      <td>27800</td>\n",
       "      <td>24h</td>\n",
       "      <td>This is the second essay in a two-part series ...</td>\n",
       "      <td>53</td>\n",
       "      <td>affection</td>\n",
       "    </tr>\n",
       "    <tr>\n",
       "      <th>327</th>\n",
       "      <td>28000</td>\n",
       "      <td>24h</td>\n",
       "      <td>Sunset is the time when the sun goes down and ...</td>\n",
       "      <td>12</td>\n",
       "      <td>nature</td>\n",
       "    </tr>\n",
       "    <tr>\n",
       "      <th>527</th>\n",
       "      <td>28200</td>\n",
       "      <td>24h</td>\n",
       "      <td>Morning walk is a good exercise. An early-rise...</td>\n",
       "      <td>16</td>\n",
       "      <td>nature</td>\n",
       "    </tr>\n",
       "    <tr>\n",
       "      <th>2243</th>\n",
       "      <td>29931</td>\n",
       "      <td>24h</td>\n",
       "      <td>I got transfer to the main plant (From Jan) . ...</td>\n",
       "      <td>13</td>\n",
       "      <td>achievement</td>\n",
       "    </tr>\n",
       "    <tr>\n",
       "      <th>...</th>\n",
       "      <td>...</td>\n",
       "      <td>...</td>\n",
       "      <td>...</td>\n",
       "      <td>...</td>\n",
       "      <td>...</td>\n",
       "    </tr>\n",
       "    <tr>\n",
       "      <th>59406</th>\n",
       "      <td>87385</td>\n",
       "      <td>3m</td>\n",
       "      <td>Happiness in its broad sense is the label for ...</td>\n",
       "      <td>8</td>\n",
       "      <td>enjoy_the_moment</td>\n",
       "    </tr>\n",
       "    <tr>\n",
       "      <th>59451</th>\n",
       "      <td>87430</td>\n",
       "      <td>3m</td>\n",
       "      <td>I first saw her standing by the roadside. For ...</td>\n",
       "      <td>24</td>\n",
       "      <td>affection</td>\n",
       "    </tr>\n",
       "    <tr>\n",
       "      <th>59558</th>\n",
       "      <td>87537</td>\n",
       "      <td>3m</td>\n",
       "      <td>It's never about the place. It's about the peo...</td>\n",
       "      <td>8</td>\n",
       "      <td>enjoy_the_moment</td>\n",
       "    </tr>\n",
       "    <tr>\n",
       "      <th>59610</th>\n",
       "      <td>87591</td>\n",
       "      <td>3m</td>\n",
       "      <td>In one month before, Me and my group of friend...</td>\n",
       "      <td>11</td>\n",
       "      <td>affection</td>\n",
       "    </tr>\n",
       "    <tr>\n",
       "      <th>60053</th>\n",
       "      <td>88035</td>\n",
       "      <td>3m</td>\n",
       "      <td>One of the happiest moment, surely. Here is wh...</td>\n",
       "      <td>16</td>\n",
       "      <td>affection</td>\n",
       "    </tr>\n",
       "  </tbody>\n",
       "</table>\n",
       "<p>303 rows × 5 columns</p>\n",
       "</div>"
      ],
      "text/plain": [
       "        hmid reflection_period  \\\n",
       "35     27708               24h   \n",
       "127    27800               24h   \n",
       "327    28000               24h   \n",
       "527    28200               24h   \n",
       "2243   29931               24h   \n",
       "...      ...               ...   \n",
       "59406  87385                3m   \n",
       "59451  87430                3m   \n",
       "59558  87537                3m   \n",
       "59610  87591                3m   \n",
       "60053  88035                3m   \n",
       "\n",
       "                                              cleaned_hm  num_sentence  \\\n",
       "35     We were competing against another team in a on...             9   \n",
       "127    This is the second essay in a two-part series ...            53   \n",
       "327    Sunset is the time when the sun goes down and ...            12   \n",
       "527    Morning walk is a good exercise. An early-rise...            16   \n",
       "2243   I got transfer to the main plant (From Jan) . ...            13   \n",
       "...                                                  ...           ...   \n",
       "59406  Happiness in its broad sense is the label for ...             8   \n",
       "59451  I first saw her standing by the roadside. For ...            24   \n",
       "59558  It's never about the place. It's about the peo...             8   \n",
       "59610  In one month before, Me and my group of friend...            11   \n",
       "60053  One of the happiest moment, surely. Here is wh...            16   \n",
       "\n",
       "      predicted_category  \n",
       "35               bonding  \n",
       "127            affection  \n",
       "327               nature  \n",
       "527               nature  \n",
       "2243         achievement  \n",
       "...                  ...  \n",
       "59406   enjoy_the_moment  \n",
       "59451          affection  \n",
       "59558   enjoy_the_moment  \n",
       "59610          affection  \n",
       "60053          affection  \n",
       "\n",
       "[303 rows x 5 columns]"
      ]
     },
     "execution_count": 36,
     "metadata": {},
     "output_type": "execute_result"
    }
   ],
   "source": [
    "train_data[train_data['num_sentence']>=8]"
   ]
  },
  {
   "cell_type": "code",
   "execution_count": 35,
   "metadata": {},
   "outputs": [
    {
     "data": {
      "text/plain": [
       "\"This is the second essay in a two-part series about my journey to visit the Taj Mahal. Read the first part for the whole story.\\r\\r\\n\\r\\r\\nA\\r\\r\\nGRA, Uttar Pradesh, India a As soon as my train to Agra leaves from Delhi, I find myself confused again. Iam lying on my reserved upper berth, though most of the train car beds arenat being used and almost all of the passengers are sitting on lower seats. I feel ridiculous, like Iam emperor of my train car, overseeing the rest of the passengers from above. Meanwhile, men pass by below me, offering a mysterious vegetarian curry out of industrial-sized buckets. I motion for one to serve me some on a paper plate, but when I try to pay for the food, he wonat accept any money. This is the first time Iave gotten anything for free in India. I conclude that the food is going to kill me.\\r\\r\\n\\r\\r\\nWhile Iam eating, the train makes a stop and passengers disembark, but the conductor makes no announcements. I canat see through any of the trainas tiny lower windows from my upper bunk. I have no idea where I am.\\r\\r\\n\\r\\r\\naIs this Agra?a I ask a man sitting below me. I ask as nicely as possible, in an attempt to avoid appearing as a self-righteous train car emperor, shouting questions to my serfs. After all, I remember, Taj Mahal-builder and Mughal Emperor Shah Jahan was overthrown by his son soon after the Taj Mahalas completion. The man below shakes his head and, in Hindi, I think he tells me that we still have a long ride to Agra. Another man walks by selling non-vegetarian food in foil tins. The first shots of an intestinal war have already been fired as a result of my free bucket food, so I decline. As the train chugs toward Agra, stopping at stations along the way, I find myself continuously recruiting new serfs below me to keep track of where we are. By the time Iam halfway through the journey, I have an eighteen year old kid, two Indian soldiers, and a young woman a none of whom can speak English a trying to assist me. Itas easy to accidentally aggregate helpers on the train; mercifully, Indians tend to be especially protective of clueless Westerners trying to make sense of Indian public transportation. At one point, the two Indian soldiers demand that a teenager move his feet resting on my berth, and the young woman makes food recommendations as buckets whisk by. Theyare kind of like four Train-Fairy Godmothers. Soon, I fall asleep.\\r\\r\\n\\r\\r\\nSuddenly, I awake to the sound of four Indians chanting aAgra! Agra!a in unison. I abruptly end my time as train car emperor, jump down from my bed, thank the four of them, and catch a taxi to my Agra guesthouse. Before he leaves, I arrange for my taxi driver to pick me up at 6 AM the next morning to take me to the Taj Mahal.\\r\\r\\n\\r\\r\\nIn the morning, I tell my driver to take me to the East Gate of the Taj Mahal. He promptly takes me to a roundabout near the West Gate instead a though his aEast Gate!a announcement upon our arrival is quite convincing. Indiaas perpetually dishonest taxi drivers always have ulterior (and sometimes mysterious) motives; in this case, he was trying to save gas by taking me to the Gate closer to my hotel and, according to Lonely Planet, possibly collect a kickback from camel and rickshaw drivers sitting near the West Gate waiting to take tourists to the Tajas ticket office. I donat bother to argue with him since thereas not much time until sunrise, and I walk quickly to the entrance. Standing in line with about twenty other mostly Indian tourists, Iam surprised to see a lack of Westerners a I imagined that every white person in India would be flocking to the Taj Mahal.\\r\\r\\n\\r\\r\\nFinally, the doors open, and I catch my first glimpse of the building considered to be the most beautiful in the world, one whose creator boasted that it made athe sun and the moon shed tears from their eyes.a I see the famous white, marble dome peeking through the arch of the Great Gate as tourists hold cameras high above their heads to get their first snapshot. I walk deliberately toward and around the Taj, soaking in the dawn, slowly taking photos from every possible angle. A handful of photographers gather in front of the adjacent Taj Mahal mosque with me to capture the sun as it rises behind it. Everyone is reverent, taking care not to interfere with othersa photographs and offering to help take posed pictures. The moment is perfect for the photographer gaggle: mist blankets the Yamuna River behind the structure, and the building looks like it has risen spontaneously from a clouded heaven, a concrete manifestation of nirvana.\\r\\r\\n\\r\\r\\nThe simple presence of the Taj, built as a symbol of eternal love by Emperor Jahan in memory of his third wife who died during childbirth, seems to encourage even rabid photographers to cooperate with each other.\\r\\r\\n\\r\\r\\nI spend almost two hours touring and photographing the Taj, walking around its walls, admiring the calligraphy on the entrance arch, gazing at the minarets, and touching the intricate lattice screens in the mausoleum interior. Iam just about finished, taking a few final classic Taj Mahal reflection pool photographs from outside, when a beautiful, young blond woman performing playful, provocative poses for her friends camera catches my eye. Soon, a string of Indian men, and some Indian families too, start interrupting to ask her to pose with them in souvenir photos.\\r\\r\\n\\r\\r\\naThe Indian tourists seem more interested in your white skin and blond hair than the white marble of the Taj Mahal,a I say to her. aIam pretty sure a lot of these Indian guys are leaving with more pictures of you than the Taj.a\\r\\r\\n\\r\\r\\nShe chuckles and introduces herself to me as Sophie, from France, and, quickly, weare trading funny stories of our travels through India. We like each other immediately. We find ourselves chatting in front of the Tajas reflection pool for about a half hour as Indian men gawk at us. But when Sophie and I realize that weare headed in opposite directions a she toward Amritsar in northern India and me toward Kerala in southern India a we share an awkward moment during which we realize that this is the one and only meeting of our entire lives.\\r\\r\\n\\r\\r\\nwell, it truly has been a pleasure, Hank,a she says. Her eyes hold on mine. For a long moment, she doesnat look away. I canat tell whether sheas staring at me or at the exquisite reflection of the Taj Mahal in the pool behind me.\\r\\r\\n\\r\\r\\nShe walks past me, in front of the rising sun. Then, she glances back at me one last time, smiles, and then shifts her gaze, once again, toward the world's most beautiful symbol of eternal love.\""
      ]
     },
     "execution_count": 35,
     "metadata": {},
     "output_type": "execute_result"
    }
   ],
   "source": [
    "train_data[train_data['num_sentence']>=8]['cleaned_hm'][127]"
   ]
  },
  {
   "cell_type": "code",
   "execution_count": null,
   "metadata": {},
   "outputs": [],
   "source": []
  },
  {
   "cell_type": "code",
   "execution_count": null,
   "metadata": {},
   "outputs": [],
   "source": []
  },
  {
   "cell_type": "code",
   "execution_count": null,
   "metadata": {},
   "outputs": [],
   "source": []
  },
  {
   "cell_type": "code",
   "execution_count": 16,
   "metadata": {},
   "outputs": [
    {
     "data": {
      "text/plain": [
       "affection           4445\n",
       "achievement         2790\n",
       "enjoy_the_moment    1488\n",
       "bonding             1190\n",
       "leisure              344\n",
       "nature               210\n",
       "exercise              77\n",
       "Name: predicted_category, dtype: int64"
      ]
     },
     "execution_count": 16,
     "metadata": {},
     "output_type": "execute_result"
    }
   ],
   "source": [
    "train_data[train_data['num_sentence']>1][target_col].value_counts()"
   ]
  },
  {
   "cell_type": "code",
   "execution_count": null,
   "metadata": {},
   "outputs": [],
   "source": []
  }
 ],
 "metadata": {
  "kernelspec": {
   "display_name": "Python 3",
   "language": "python",
   "name": "python3"
  },
  "language_info": {
   "codemirror_mode": {
    "name": "ipython",
    "version": 3
   },
   "file_extension": ".py",
   "mimetype": "text/x-python",
   "name": "python",
   "nbconvert_exporter": "python",
   "pygments_lexer": "ipython3",
   "version": "3.6.6"
  }
 },
 "nbformat": 4,
 "nbformat_minor": 2
}
